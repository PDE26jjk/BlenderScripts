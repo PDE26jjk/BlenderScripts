{
 "cells": [
  {
   "cell_type": "code",
   "outputs": [],
   "source": [
    "# 这个脚本计算AEN，放到uv3、uv4中,转换到切线空间。\n",
    "import bpy\n",
    "import bmesh\n",
    "import numpy as np"
   ],
   "metadata": {
    "collapsed": false,
    "ExecuteTime": {
     "end_time": "2024-05-02T09:31:43.980474300Z",
     "start_time": "2024-05-02T09:31:43.965214200Z"
    }
   },
   "id": "41a3ea6bd84d1d79",
   "execution_count": 86
  },
  {
   "cell_type": "code",
   "outputs": [],
   "source": [
    "obj = bpy.context.selected_objects[0]\n",
    "mesh = obj.data"
   ],
   "metadata": {
    "collapsed": false,
    "ExecuteTime": {
     "end_time": "2024-05-02T11:46:53.548559600Z",
     "start_time": "2024-05-02T11:46:53.535662100Z"
    }
   },
   "id": "f5aac9a4279e6026",
   "execution_count": 133
  },
  {
   "cell_type": "code",
   "outputs": [],
   "source": [
    "mesh.calc_normals_split()\n",
    "mesh.calc_tangents(uvmap=\"UVMap\")\n",
    "normals = []\n",
    "tangents = []\n",
    "bitangents = []\n",
    "TBNs = []\n",
    "for vert in mesh.loops:\n",
    "    t = vert.tangent\n",
    "    n = vert.normal\n",
    "    b = vert.bitangent_sign * n.cross(t)\n",
    "    TBN = np.stack((t, b, n))\n",
    "    normals.append(n)\n",
    "    tangents.append(t)\n",
    "    bitangents.append(b)\n",
    "    TBNs.append(TBN)\n"
   ],
   "metadata": {
    "collapsed": false,
    "ExecuteTime": {
     "end_time": "2024-05-02T11:46:53.864053700Z",
     "start_time": "2024-05-02T11:46:53.752741Z"
    }
   },
   "id": "768a24dfa2d08a2b",
   "execution_count": 134
  },
  {
   "cell_type": "code",
   "outputs": [],
   "source": [
    "# mesh.normals_split_custom_set(bitangents)"
   ],
   "metadata": {
    "collapsed": false,
    "ExecuteTime": {
     "end_time": "2024-05-02T11:46:53.908313500Z",
     "start_time": "2024-05-02T11:46:53.891311700Z"
    }
   },
   "id": "352066bfe0680725",
   "execution_count": 135
  },
  {
   "cell_type": "code",
   "outputs": [],
   "source": [
    "\n",
    "def createUV(obj, i):\n",
    "    if obj.data.uv_layers.get(f'UV{i}') is None:\n",
    "        obj.data.uv_layers.new(name=f'UV{i}', do_init=True)\n",
    "\n",
    "\n",
    "createUV(obj, 1)\n",
    "createUV(obj, 2)\n",
    "createUV(obj, 3)\n",
    "createUV(obj, 4)\n",
    "\n"
   ],
   "metadata": {
    "collapsed": false,
    "ExecuteTime": {
     "end_time": "2024-05-02T11:46:54.399617700Z",
     "start_time": "2024-05-02T11:46:54.373482600Z"
    }
   },
   "id": "b0c9caeb35740fe0",
   "execution_count": 136
  },
  {
   "cell_type": "code",
   "outputs": [],
   "source": [
    "bpy.ops.object.mode_set(mode='EDIT')\n",
    "\n",
    "bm = bmesh.from_edit_mesh(mesh)\n",
    "bm\n",
    "\n",
    "color = bm.loops.layers.color.get(\"Col\")\n",
    "# print(color)\n",
    "if color is None:\n",
    "    color = bm.loops.layers.float_color.new(\"Col\")\n",
    "uv2 = bm.loops.layers.uv[\"UV2\"]\n",
    "uv3 = bm.loops.layers.uv[\"UV3\"]\n",
    "uv4 = bm.loops.layers.uv[\"UV4\"]\n"
   ],
   "metadata": {
    "collapsed": false,
    "ExecuteTime": {
     "end_time": "2024-05-02T11:46:55.007339Z",
     "start_time": "2024-05-02T11:46:54.991226Z"
    }
   },
   "id": "286f3b71c6f05c7e",
   "execution_count": 137
  },
  {
   "cell_type": "code",
   "outputs": [
    {
     "data": {
      "text/plain": "{'FINISHED'}"
     },
     "execution_count": 138,
     "metadata": {},
     "output_type": "execute_result"
    }
   ],
   "source": [
    "def normalize(v):\n",
    "    norm = np.linalg.norm(v)\n",
    "    if norm == 0:\n",
    "        norm = np.finfo(v.dtype).eps\n",
    "    return v / norm\n",
    "# custom_normal = np.zeros((len(normals),3))\n",
    "rgb=[[1,0,0,1],[0,1,0,1],[0,0,1,1],[0,0,0,1]]\n",
    "for f in bm.faces:\n",
    "    ci = 0\n",
    "    for l in f.loops:\n",
    "        # l[color] = rgb[ci]\n",
    "        ci+=1\n",
    "        n1 = np.zeros(3)\n",
    "        n2 = np.zeros(3)\n",
    "        v1, v2 = l.vert, l.link_loop_next.vert\n",
    "        faces = [_l.face.index for _l in l.edge.link_loops]\n",
    "        i1 = set()\n",
    "        i2 = set()\n",
    "        for _l in v1.link_loops:\n",
    "            if _l.face.index in faces:\n",
    "                i1.add(_l.index)\n",
    "        for _l in v2.link_loops:\n",
    "            if _l.face.index in faces:\n",
    "                i2.add(_l.index)\n",
    "        for i in i1:\n",
    "            n1 += normals[i]\n",
    "        for i in i2:\n",
    "            n2 += normals[i]\n",
    "        n0 = normalize(TBNs[l.index] @ normals[l.index])\n",
    "        # custom_normal[l.index] = normalize(n1)\n",
    "        n1 = normalize(TBNs[l.index] @ n1)\n",
    "        n2 = normalize(TBNs[l.link_loop_next.index] @ n2)\n",
    "        l[uv2].uv = [n0[0], n0[1]]\n",
    "        l[uv3].uv = [n1[0], n1[1]]\n",
    "        l.link_loop_next[uv4].uv = [n2[0], n2[1]]\n",
    "        # print(n1)\n",
    "\n",
    "bmesh.update_edit_mesh(mesh)\n",
    "bpy.ops.object.mode_set(mode='OBJECT')\n",
    "\n"
   ],
   "metadata": {
    "collapsed": false,
    "ExecuteTime": {
     "end_time": "2024-05-02T11:46:56.044364800Z",
     "start_time": "2024-05-02T11:46:55.884439600Z"
    }
   },
   "id": "817cedfc63656de4",
   "execution_count": 138
  },
  {
   "cell_type": "code",
   "outputs": [],
   "source": [
    "# mesh.normals_split_custom_set(custom_normal)"
   ],
   "metadata": {
    "collapsed": false,
    "ExecuteTime": {
     "end_time": "2024-05-02T09:45:47.498875100Z",
     "start_time": "2024-05-02T09:45:47.478634500Z"
    }
   },
   "id": "14a0570eea0f5f96",
   "execution_count": 102
  },
  {
   "cell_type": "code",
   "outputs": [],
   "source": [],
   "metadata": {
    "collapsed": false,
    "ExecuteTime": {
     "end_time": "2024-05-02T09:06:30.773351200Z",
     "start_time": "2024-05-02T09:06:30.759991500Z"
    }
   },
   "id": "5c3e9f1293e1727",
   "execution_count": 76
  },
  {
   "cell_type": "code",
   "outputs": [],
   "source": [],
   "metadata": {
    "collapsed": false,
    "ExecuteTime": {
     "end_time": "2024-05-01T20:26:46.952711700Z",
     "start_time": "2024-05-01T20:26:46.942800400Z"
    }
   },
   "id": "d57dcfc6ec671a3b",
   "execution_count": 123
  },
  {
   "cell_type": "code",
   "outputs": [],
   "source": [],
   "metadata": {
    "collapsed": false
   },
   "id": "2ff1947873fa3f6f"
  }
 ],
 "metadata": {
  "kernelspec": {
   "name": "blender_3.6.5",
   "language": "python",
   "display_name": "blender_3.6.5"
  },
  "language_info": {
   "codemirror_mode": {
    "name": "ipython",
    "version": 2
   },
   "file_extension": ".py",
   "mimetype": "text/x-python",
   "name": "python",
   "nbconvert_exporter": "python",
   "pygments_lexer": "ipython2",
   "version": "2.7.6"
  }
 },
 "nbformat": 4,
 "nbformat_minor": 5
}
